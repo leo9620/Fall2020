{
  "nbformat": 4,
  "nbformat_minor": 0,
  "metadata": {
    "colab": {
      "name": "Lab2 PetShop.ipynb",
      "provenance": [],
      "collapsed_sections": [],
      "authorship_tag": "ABX9TyPtOC/8+BYK7sDsGgk1zI0e",
      "include_colab_link": true
    },
    "kernelspec": {
      "name": "python3",
      "display_name": "Python 3"
    }
  },
  "cells": [
    {
      "cell_type": "markdown",
      "metadata": {
        "id": "view-in-github",
        "colab_type": "text"
      },
      "source": [
        "<a href=\"https://colab.research.google.com/github/leo9620/Fall2020/blob/master/Lab2_PetShop.ipynb\" target=\"_parent\"><img src=\"https://colab.research.google.com/assets/colab-badge.svg\" alt=\"Open In Colab\"/></a>"
      ]
    },
    {
      "cell_type": "code",
      "metadata": {
        "id": "9U2gQEpD32xj"
      },
      "source": [
        ""
      ],
      "execution_count": null,
      "outputs": []
    },
    {
      "cell_type": "markdown",
      "metadata": {
        "id": "nLM25ALT4Of6"
      },
      "source": [
        "![Pet Shop ERD](https://raw.githubusercontent.com/leo9620/Fall2020/master/Images/PetShop.png)"
      ]
    },
    {
      "cell_type": "markdown",
      "metadata": {
        "id": "ZGC50hZU4ako"
      },
      "source": [
        "From ERD above, you can see six entities and multiple attributes to them. Primary keys, foreign keys, relationships, and connectivity for each entity are shown in the diagram. For pet entity, pets are kept in enclosure. Pets can have 0 or many enclosures. (optional many) If Pet is kept in enclosure, it is 1 to 1. Pet food is 1 or many because food is needed for pets. For Pet connected to transaction entity, we are assuming that there is at least one transaction going on for pet. There can be multiple transaction. Therefore, it is one to many. Also, Relationship between food and transaction is similar to pet and transaction relationship. There can be one or many transactions going on for food. If customer has transaction, there should be at least one. Transaction includes one and only one customer. There is a loyalty program for customers. If customer is in loyalty program, then it is one to one. Loyalty program to customer is zero or one because customer might not be in loyalty program. \n"
      ]
    }
  ]
}