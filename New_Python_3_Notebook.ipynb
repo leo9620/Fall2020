{
  "nbformat": 4,
  "nbformat_minor": 0,
  "metadata": {
    "colab": {
      "name": "New Python 3 Notebook.ipynb",
      "provenance": [],
      "collapsed_sections": [],
      "toc_visible": true,
      "authorship_tag": "ABX9TyNUOjDJZF+VBujqVpiDfDF/",
      "include_colab_link": true
    },
    "kernelspec": {
      "name": "python3",
      "display_name": "Python 3"
    }
  },
  "cells": [
    {
      "cell_type": "markdown",
      "metadata": {
        "id": "view-in-github",
        "colab_type": "text"
      },
      "source": [
        "<a href=\"https://colab.research.google.com/github/leo9620/Fall2020/blob/master/New_Python_3_Notebook.ipynb\" target=\"_parent\"><img src=\"https://colab.research.google.com/assets/colab-badge.svg\" alt=\"Open In Colab\"/></a>"
      ]
    },
    {
      "cell_type": "code",
      "metadata": {
        "id": "vVGNP9d40YDq",
        "colab_type": "code",
        "colab": {}
      },
      "source": [
        ""
      ],
      "execution_count": null,
      "outputs": []
    },
    {
      "cell_type": "markdown",
      "metadata": {
        "id": "GAf1WdsF2t8G",
        "colab_type": "text"
      },
      "source": [
        "# New Python 3 Notebook"
      ]
    },
    {
      "cell_type": "markdown",
      "metadata": {
        "id": "pFWnxKk41SsX",
        "colab_type": "text"
      },
      "source": [
        "## Do you like using Jupyter Notebooks?\n",
        "I love using Jupyter Notebook, because it has environment that we can put in informations such as text, code, image, and video. It allows us to share information with other people as well. I think this is very effective tool to use for everyone.\n"
      ]
    },
    {
      "cell_type": "markdown",
      "metadata": {
        "id": "4k8k3WQT5KfI",
        "colab_type": "text"
      },
      "source": [
        "## What do you want to learn more about in Jupyter Notebooks\n",
        "I want to learn more about data science by using Jupyter Notebook. Because it allows us to share documents and codes, I can learn information that people are sharing. I want to learn how people can come up with different answers for a question."
      ]
    },
    {
      "cell_type": "markdown",
      "metadata": {
        "id": "14Xk4kssIjQN",
        "colab_type": "text"
      },
      "source": [
        "![Heights at State College](https://raw.githubusercontent.com/leo9620/Fall2020/master/Images/TheHeights.jpg)"
      ]
    }
  ]
}